{
 "cells": [
  {
   "attachments": {},
   "cell_type": "markdown",
   "metadata": {},
   "source": [
    "# LangChain: Q&A over Documents\n",
    "\n",
    "An example might be a tool that would allow you to query a product catalog for items of interest."
   ]
  },
  {
   "cell_type": "code",
   "execution_count": 8,
   "metadata": {},
   "outputs": [],
   "source": [
    "#pip install --upgrade langchain"
   ]
  },
  {
   "cell_type": "code",
   "execution_count": 9,
   "metadata": {},
   "outputs": [],
   "source": [
    "import os\n",
    "\n",
    "from dotenv import load_dotenv, find_dotenv\n",
    "_ = load_dotenv(find_dotenv()) # read local .env file"
   ]
  },
  {
   "cell_type": "code",
   "execution_count": 10,
   "metadata": {},
   "outputs": [],
   "source": [
    "from langchain.chains import RetrievalQA\n",
    "from langchain.chat_models import ChatOpenAI\n",
    "from langchain.document_loaders import CSVLoader\n",
    "from langchain.vectorstores import DocArrayInMemorySearch\n",
    "from IPython.display import display, Markdown"
   ]
  },
  {
   "cell_type": "code",
   "execution_count": 15,
   "metadata": {},
   "outputs": [],
   "source": [
    "file = 'myntra_products_catalog.csv'\n",
    "loader = CSVLoader(file_path=file)"
   ]
  },
  {
   "cell_type": "code",
   "execution_count": 16,
   "metadata": {},
   "outputs": [],
   "source": [
    "from langchain.indexes import VectorstoreIndexCreator"
   ]
  },
  {
   "cell_type": "code",
   "execution_count": 17,
   "metadata": {},
   "outputs": [],
   "source": [
    "#pip install docarray"
   ]
  },
  {
   "cell_type": "code",
   "execution_count": 18,
   "metadata": {},
   "outputs": [],
   "source": [
    "index = VectorstoreIndexCreator(\n",
    "    vectorstore_cls=DocArrayInMemorySearch\n",
    ").from_loaders([loader])"
   ]
  },
  {
   "cell_type": "code",
   "execution_count": 19,
   "metadata": {},
   "outputs": [],
   "source": [
    "import pandas as pd"
   ]
  },
  {
   "cell_type": "code",
   "execution_count": 20,
   "metadata": {},
   "outputs": [],
   "source": [
    "df = pd.read_csv('myntra_products_catalog.csv')"
   ]
  },
  {
   "cell_type": "code",
   "execution_count": 21,
   "metadata": {},
   "outputs": [
    {
     "data": {
      "text/html": [
       "<div>\n",
       "<style scoped>\n",
       "    .dataframe tbody tr th:only-of-type {\n",
       "        vertical-align: middle;\n",
       "    }\n",
       "\n",
       "    .dataframe tbody tr th {\n",
       "        vertical-align: top;\n",
       "    }\n",
       "\n",
       "    .dataframe thead th {\n",
       "        text-align: right;\n",
       "    }\n",
       "</style>\n",
       "<table border=\"1\" class=\"dataframe\">\n",
       "  <thead>\n",
       "    <tr style=\"text-align: right;\">\n",
       "      <th></th>\n",
       "      <th>ProductID</th>\n",
       "      <th>ProductName</th>\n",
       "      <th>ProductBrand</th>\n",
       "      <th>Gender</th>\n",
       "      <th>Price (INR)</th>\n",
       "      <th>NumImages</th>\n",
       "      <th>Description</th>\n",
       "      <th>PrimaryColor</th>\n",
       "    </tr>\n",
       "  </thead>\n",
       "  <tbody>\n",
       "    <tr>\n",
       "      <th>0</th>\n",
       "      <td>10017413</td>\n",
       "      <td>DKNY Unisex Black &amp; Grey Printed Medium Trolle...</td>\n",
       "      <td>DKNY</td>\n",
       "      <td>Unisex</td>\n",
       "      <td>11745</td>\n",
       "      <td>7</td>\n",
       "      <td>Black and grey printed medium trolley bag, sec...</td>\n",
       "      <td>Black</td>\n",
       "    </tr>\n",
       "    <tr>\n",
       "      <th>1</th>\n",
       "      <td>10016283</td>\n",
       "      <td>EthnoVogue Women Beige &amp; Grey Made to Measure ...</td>\n",
       "      <td>EthnoVogue</td>\n",
       "      <td>Women</td>\n",
       "      <td>5810</td>\n",
       "      <td>7</td>\n",
       "      <td>Beige &amp; Grey made to measure kurta with churid...</td>\n",
       "      <td>Beige</td>\n",
       "    </tr>\n",
       "    <tr>\n",
       "      <th>2</th>\n",
       "      <td>10009781</td>\n",
       "      <td>SPYKAR Women Pink Alexa Super Skinny Fit High-...</td>\n",
       "      <td>SPYKAR</td>\n",
       "      <td>Women</td>\n",
       "      <td>899</td>\n",
       "      <td>7</td>\n",
       "      <td>Pink coloured wash 5-pocket high-rise cropped ...</td>\n",
       "      <td>Pink</td>\n",
       "    </tr>\n",
       "    <tr>\n",
       "      <th>3</th>\n",
       "      <td>10015921</td>\n",
       "      <td>Raymond Men Blue Self-Design Single-Breasted B...</td>\n",
       "      <td>Raymond</td>\n",
       "      <td>Men</td>\n",
       "      <td>5599</td>\n",
       "      <td>5</td>\n",
       "      <td>Blue self-design bandhgala suitBlue self-desig...</td>\n",
       "      <td>Blue</td>\n",
       "    </tr>\n",
       "    <tr>\n",
       "      <th>4</th>\n",
       "      <td>10017833</td>\n",
       "      <td>Parx Men Brown &amp; Off-White Slim Fit Printed Ca...</td>\n",
       "      <td>Parx</td>\n",
       "      <td>Men</td>\n",
       "      <td>759</td>\n",
       "      <td>5</td>\n",
       "      <td>Brown and off-white printed casual shirt, has ...</td>\n",
       "      <td>White</td>\n",
       "    </tr>\n",
       "  </tbody>\n",
       "</table>\n",
       "</div>"
      ],
      "text/plain": [
       "   ProductID                                        ProductName ProductBrand  \\\n",
       "0   10017413  DKNY Unisex Black & Grey Printed Medium Trolle...         DKNY   \n",
       "1   10016283  EthnoVogue Women Beige & Grey Made to Measure ...   EthnoVogue   \n",
       "2   10009781  SPYKAR Women Pink Alexa Super Skinny Fit High-...       SPYKAR   \n",
       "3   10015921  Raymond Men Blue Self-Design Single-Breasted B...      Raymond   \n",
       "4   10017833  Parx Men Brown & Off-White Slim Fit Printed Ca...         Parx   \n",
       "\n",
       "   Gender  Price (INR)  NumImages  \\\n",
       "0  Unisex        11745          7   \n",
       "1   Women         5810          7   \n",
       "2   Women          899          7   \n",
       "3     Men         5599          5   \n",
       "4     Men          759          5   \n",
       "\n",
       "                                         Description PrimaryColor  \n",
       "0  Black and grey printed medium trolley bag, sec...        Black  \n",
       "1  Beige & Grey made to measure kurta with churid...        Beige  \n",
       "2  Pink coloured wash 5-pocket high-rise cropped ...         Pink  \n",
       "3  Blue self-design bandhgala suitBlue self-desig...         Blue  \n",
       "4  Brown and off-white printed casual shirt, has ...        White  "
      ]
     },
     "execution_count": 21,
     "metadata": {},
     "output_type": "execute_result"
    }
   ],
   "source": [
    "df.head()"
   ]
  },
  {
   "cell_type": "code",
   "execution_count": 22,
   "metadata": {},
   "outputs": [
    {
     "data": {
      "text/plain": [
       "Index(['ProductID', 'ProductName', 'ProductBrand', 'Gender', 'Price (INR)',\n",
       "       'NumImages', 'Description', 'PrimaryColor'],\n",
       "      dtype='object')"
      ]
     },
     "execution_count": 22,
     "metadata": {},
     "output_type": "execute_result"
    }
   ],
   "source": [
    "df.columns"
   ]
  },
  {
   "cell_type": "code",
   "execution_count": 23,
   "metadata": {},
   "outputs": [
    {
     "data": {
      "text/plain": [
       "ProductID        int64\n",
       "ProductName     object\n",
       "ProductBrand    object\n",
       "Gender          object\n",
       "Price (INR)      int64\n",
       "NumImages        int64\n",
       "Description     object\n",
       "PrimaryColor    object\n",
       "dtype: object"
      ]
     },
     "execution_count": 23,
     "metadata": {},
     "output_type": "execute_result"
    }
   ],
   "source": [
    "df.dtypes"
   ]
  },
  {
   "cell_type": "code",
   "execution_count": 24,
   "metadata": {},
   "outputs": [
    {
     "data": {
      "text/plain": [
       "(12491, 8)"
      ]
     },
     "execution_count": 24,
     "metadata": {},
     "output_type": "execute_result"
    }
   ],
   "source": [
    "df.shape"
   ]
  },
  {
   "cell_type": "code",
   "execution_count": 26,
   "metadata": {},
   "outputs": [
    {
     "data": {
      "text/plain": [
       "(11597, 8)"
      ]
     },
     "execution_count": 26,
     "metadata": {},
     "output_type": "execute_result"
    }
   ],
   "source": [
    "df = df.dropna()\n",
    "df.shape"
   ]
  },
  {
   "cell_type": "code",
   "execution_count": 27,
   "metadata": {},
   "outputs": [
    {
     "data": {
      "text/html": [
       "<div>\n",
       "<style scoped>\n",
       "    .dataframe tbody tr th:only-of-type {\n",
       "        vertical-align: middle;\n",
       "    }\n",
       "\n",
       "    .dataframe tbody tr th {\n",
       "        vertical-align: top;\n",
       "    }\n",
       "\n",
       "    .dataframe thead th {\n",
       "        text-align: right;\n",
       "    }\n",
       "</style>\n",
       "<table border=\"1\" class=\"dataframe\">\n",
       "  <thead>\n",
       "    <tr style=\"text-align: right;\">\n",
       "      <th></th>\n",
       "      <th>count</th>\n",
       "      <th>mean</th>\n",
       "      <th>std</th>\n",
       "      <th>min</th>\n",
       "      <th>25%</th>\n",
       "      <th>50%</th>\n",
       "      <th>75%</th>\n",
       "      <th>max</th>\n",
       "    </tr>\n",
       "  </thead>\n",
       "  <tbody>\n",
       "    <tr>\n",
       "      <th>ProductID</th>\n",
       "      <td>11597.0</td>\n",
       "      <td>9.962030e+06</td>\n",
       "      <td>1.297211e+06</td>\n",
       "      <td>101206.0</td>\n",
       "      <td>10063875.0</td>\n",
       "      <td>10155387.0</td>\n",
       "      <td>10215659.0</td>\n",
       "      <td>10275139.0</td>\n",
       "    </tr>\n",
       "    <tr>\n",
       "      <th>Price (INR)</th>\n",
       "      <td>11597.0</td>\n",
       "      <td>1.460913e+03</td>\n",
       "      <td>2.159003e+03</td>\n",
       "      <td>153.0</td>\n",
       "      <td>649.0</td>\n",
       "      <td>939.0</td>\n",
       "      <td>1499.0</td>\n",
       "      <td>63090.0</td>\n",
       "    </tr>\n",
       "    <tr>\n",
       "      <th>NumImages</th>\n",
       "      <td>11597.0</td>\n",
       "      <td>4.967319e+00</td>\n",
       "      <td>1.063547e+00</td>\n",
       "      <td>1.0</td>\n",
       "      <td>5.0</td>\n",
       "      <td>5.0</td>\n",
       "      <td>5.0</td>\n",
       "      <td>10.0</td>\n",
       "    </tr>\n",
       "  </tbody>\n",
       "</table>\n",
       "</div>"
      ],
      "text/plain": [
       "               count          mean           std       min         25%  \\\n",
       "ProductID    11597.0  9.962030e+06  1.297211e+06  101206.0  10063875.0   \n",
       "Price (INR)  11597.0  1.460913e+03  2.159003e+03     153.0       649.0   \n",
       "NumImages    11597.0  4.967319e+00  1.063547e+00       1.0         5.0   \n",
       "\n",
       "                    50%         75%         max  \n",
       "ProductID    10155387.0  10215659.0  10275139.0  \n",
       "Price (INR)       939.0      1499.0     63090.0  \n",
       "NumImages           5.0         5.0        10.0  "
      ]
     },
     "execution_count": 27,
     "metadata": {},
     "output_type": "execute_result"
    }
   ],
   "source": [
    "df.describe().transpose()"
   ]
  },
  {
   "cell_type": "code",
   "execution_count": 28,
   "metadata": {},
   "outputs": [
    {
     "data": {
      "text/plain": [
       "0        Black and grey printed medium trolley bag, sec...\n",
       "1        Beige & Grey made to measure kurta with churid...\n",
       "2        Pink coloured wash 5-pocket high-rise cropped ...\n",
       "3        Blue self-design bandhgala suitBlue self-desig...\n",
       "4        Brown and off-white printed casual shirt, has ...\n",
       "                               ...                        \n",
       "12485    Black lace full-coverage Bralette bra Lightly ...\n",
       "12486    Black dark wash 5-pocket low-rise jeans, clean...\n",
       "12487    A pair of gold-toned open toe heels, has regul...\n",
       "12488    Navy Blue and White printed mid-rise denim sho...\n",
       "12490    Black and grey striped T-shirt, has a polo col...\n",
       "Name: Description, Length: 11597, dtype: object"
      ]
     },
     "execution_count": 28,
     "metadata": {},
     "output_type": "execute_result"
    }
   ],
   "source": [
    "df['Description']"
   ]
  },
  {
   "cell_type": "code",
   "execution_count": 29,
   "metadata": {},
   "outputs": [],
   "source": [
    "query =\"Please list all your shirts with sun protection \\\n",
    "in a table in markdown and summarize each one.\""
   ]
  },
  {
   "cell_type": "code",
   "execution_count": 30,
   "metadata": {},
   "outputs": [],
   "source": [
    "response = index.query(query)"
   ]
  },
  {
   "cell_type": "code",
   "execution_count": 31,
   "metadata": {},
   "outputs": [
    {
     "data": {
      "text/markdown": [
       " I don't know."
      ],
      "text/plain": [
       "<IPython.core.display.Markdown object>"
      ]
     },
     "metadata": {},
     "output_type": "display_data"
    }
   ],
   "source": [
    "display(Markdown(response))"
   ]
  },
  {
   "cell_type": "code",
   "execution_count": 32,
   "metadata": {},
   "outputs": [],
   "source": [
    "query =\"Please list all your shirts available in black \\\n",
    "in a table in markdown and summarize each one.\""
   ]
  },
  {
   "cell_type": "code",
   "execution_count": 33,
   "metadata": {},
   "outputs": [],
   "source": [
    "response = index.query(query)"
   ]
  },
  {
   "cell_type": "code",
   "execution_count": 34,
   "metadata": {},
   "outputs": [
    {
     "data": {
      "text/markdown": [
       "\n",
       "\n",
       "| ProductID | ProductName | Price (INR) |\n",
       "|-----------|------------|-------------|\n",
       "| 10245285 | Basics Men Black & Grey Slim Fit Striped Casual Shirt | 1469 |\n",
       "| 10245063 | Basics Men Black Slim Fit Solid Casual Shirt | 1424 |\n",
       "| 10201151 | Mufti Men Black Regular Fit Printed Casual Shirt | 999 |\n",
       "\n",
       "Basics Men Black & Grey Slim Fit Striped Casual Shirt: Black striped casual shirt, has a spread collar, long sleeves, button placket, and curved hem.\n",
       "\n",
       "Basics Men Black Slim Fit Solid Casual Shirt: Black solid casual shirt, has a spread collar, long sleeves, button placket, curved hem, and 1 patch pocket.\n",
       "\n",
       "Mufti Men Black Regular Fit Printed Casual Shirt: Black printed casual shirt, has a spread collar, long sleeves, button placket, curved hem, and 1 patch pocket."
      ],
      "text/plain": [
       "<IPython.core.display.Markdown object>"
      ]
     },
     "metadata": {},
     "output_type": "display_data"
    }
   ],
   "source": [
    "display(Markdown(response))"
   ]
  },
  {
   "cell_type": "code",
   "execution_count": 35,
   "metadata": {},
   "outputs": [],
   "source": [
    "loader = CSVLoader(file_path=file)"
   ]
  },
  {
   "cell_type": "code",
   "execution_count": 36,
   "metadata": {},
   "outputs": [],
   "source": [
    "docs = loader.load()"
   ]
  },
  {
   "cell_type": "code",
   "execution_count": 37,
   "metadata": {},
   "outputs": [
    {
     "data": {
      "text/plain": [
       "Document(page_content='ProductID: 10017413\\nProductName: DKNY Unisex Black & Grey Printed Medium Trolley Bag\\nProductBrand: DKNY\\nGender: Unisex\\nPrice (INR): 11745\\nNumImages: 7\\nDescription: Black and grey printed medium trolley bag, secured with a TSA lockOne handle on the top and one on the side, has a trolley with a retractable handle on the top and four corner mounted inline skate wheelsOne main zip compartment, zip lining, two compression straps with click clasps, one zip compartment on the flap with three zip pocketsWarranty: 5 yearsWarranty provided by Brand Owner / Manufacturer\\nPrimaryColor: Black', metadata={'source': 'myntra_products_catalog.csv', 'row': 0})"
      ]
     },
     "execution_count": 37,
     "metadata": {},
     "output_type": "execute_result"
    }
   ],
   "source": [
    "docs[0]"
   ]
  },
  {
   "cell_type": "code",
   "execution_count": 38,
   "metadata": {},
   "outputs": [],
   "source": [
    "from langchain.embeddings import OpenAIEmbeddings\n",
    "embeddings = OpenAIEmbeddings()"
   ]
  },
  {
   "cell_type": "code",
   "execution_count": 39,
   "metadata": {},
   "outputs": [],
   "source": [
    "embed = embeddings.embed_query(\"Hi my name is Harrison\")"
   ]
  },
  {
   "cell_type": "code",
   "execution_count": 40,
   "metadata": {},
   "outputs": [
    {
     "name": "stdout",
     "output_type": "stream",
     "text": [
      "1536\n"
     ]
    }
   ],
   "source": [
    "print(len(embed))"
   ]
  },
  {
   "cell_type": "code",
   "execution_count": 41,
   "metadata": {},
   "outputs": [
    {
     "name": "stdout",
     "output_type": "stream",
     "text": [
      "[-0.021913960576057434, 0.006774206645786762, -0.018190348520874977, -0.039148248732089996, -0.014089343138039112]\n"
     ]
    }
   ],
   "source": [
    "print(embed[:5])"
   ]
  },
  {
   "cell_type": "code",
   "execution_count": 42,
   "metadata": {},
   "outputs": [],
   "source": [
    "db = DocArrayInMemorySearch.from_documents(\n",
    "    docs, \n",
    "    embeddings\n",
    ")"
   ]
  },
  {
   "cell_type": "code",
   "execution_count": 43,
   "metadata": {},
   "outputs": [],
   "source": [
    "query = \"Please suggest a cotton shirt in black\""
   ]
  },
  {
   "cell_type": "code",
   "execution_count": 44,
   "metadata": {},
   "outputs": [],
   "source": [
    "docs = db.similarity_search(query)"
   ]
  },
  {
   "cell_type": "code",
   "execution_count": 45,
   "metadata": {},
   "outputs": [
    {
     "data": {
      "text/plain": [
       "4"
      ]
     },
     "execution_count": 45,
     "metadata": {},
     "output_type": "execute_result"
    }
   ],
   "source": [
    "len(docs)"
   ]
  },
  {
   "cell_type": "code",
   "execution_count": 46,
   "metadata": {},
   "outputs": [
    {
     "data": {
      "text/plain": [
       "Document(page_content='ProductID: 10201151\\nProductName: Mufti Men Black Regular Fit Printed Casual Shirt\\nProductBrand: Mufti\\nGender: Men\\nPrice (INR): 999\\nNumImages: 5\\nDescription: Black printed casual shirt, has a spread collar, long sleeves, button placket, curved hem, and 1 patch pocket\\nPrimaryColor: Black', metadata={'source': 'myntra_products_catalog.csv', 'row': 8738})"
      ]
     },
     "execution_count": 46,
     "metadata": {},
     "output_type": "execute_result"
    }
   ],
   "source": [
    "docs[0]"
   ]
  },
  {
   "cell_type": "code",
   "execution_count": 47,
   "metadata": {},
   "outputs": [],
   "source": [
    "retriever = db.as_retriever()"
   ]
  },
  {
   "cell_type": "code",
   "execution_count": 48,
   "metadata": {},
   "outputs": [],
   "source": [
    "llm = ChatOpenAI(temperature = 0.0)\n"
   ]
  },
  {
   "cell_type": "code",
   "execution_count": 49,
   "metadata": {},
   "outputs": [],
   "source": [
    "qdocs = \"\".join([docs[i].page_content for i in range(len(docs))])\n"
   ]
  },
  {
   "cell_type": "code",
   "execution_count": 50,
   "metadata": {},
   "outputs": [],
   "source": [
    "response = llm.call_as_llm(f\"{qdocs} Question: Please list all your \\\n",
    "shirts with sun protection in a table in markdown and summarize each one.\") \n"
   ]
  },
  {
   "cell_type": "code",
   "execution_count": 51,
   "metadata": {},
   "outputs": [
    {
     "data": {
      "text/markdown": [
       "| ProductID  | ProductName                                                | ProductBrand   | Gender | Price (INR) | NumImages | Description                                                                                          | PrimaryColor |\n",
       "|------------|------------------------------------------------------------|----------------|--------|-------------|-----------|------------------------------------------------------------------------------------------------------|--------------|\n",
       "| 10201151   | Mufti Men Black Regular Fit Printed Casual Shirt            | Mufti          | Men    | 999         | 5         | Black printed casual shirt, has a spread collar, long sleeves, button placket, curved hem, and 1 patch pocket | Black        |\n",
       "| 10038579   | IVOC Men Black Regular Fit Printed Casual Shirt             | IVOC           | Men    | 461         | 5         | Black printed casual shirt, has a spread collar, short sleeves, button placket, and curved hem         | Black        |\n",
       "| 10153269   | Indian Terrain Men Black Slim Fit Printed Pure Cotton Shirt | Indian Terrain | Men    | 989         | 6         | Black printed casual shirt, has a spread collar, long sleeves, button placket, curved hem, and 1 patch pocket | Black        |\n",
       "| 10201137   | Mufti Men Black & White Regular Fit Printed Casual Shirt    | Mufti          | Men    | 1074        | 5         | Black and White printed casual shirt, has a spread collar, long sleeves, button placket, curved hem, and 1 patch pocket | Black        |\n",
       "\n",
       "Summary:\n",
       "1. Mufti Men Black Regular Fit Printed Casual Shirt: This shirt is from the brand Mufti and is designed for men. It is priced at INR 999 and comes in a black color. It has a spread collar, long sleeves, button placket, curved hem, and 1 patch pocket.\n",
       "\n",
       "2. IVOC Men Black Regular Fit Printed Casual Shirt: This shirt is from the brand IVOC and is designed for men. It is priced at INR 461 and comes in a black color. It has a spread collar, short sleeves, button placket, and curved hem.\n",
       "\n",
       "3. Indian Terrain Men Black Slim Fit Printed Pure Cotton Shirt: This shirt is from the brand Indian Terrain and is designed for men. It is priced at INR 989 and comes in a black color. It has a spread collar, long sleeves, button placket, curved hem, and 1 patch pocket.\n",
       "\n",
       "4. Mufti Men Black & White Regular Fit Printed Casual Shirt: This shirt is from the brand Mufti and is designed for men. It is priced at INR 1074 and comes in a black and white color. It has a spread collar, long sleeves, button placket, curved hem, and 1 patch pocket."
      ],
      "text/plain": [
       "<IPython.core.display.Markdown object>"
      ]
     },
     "metadata": {},
     "output_type": "display_data"
    }
   ],
   "source": [
    "display(Markdown(response))"
   ]
  },
  {
   "cell_type": "code",
   "execution_count": 52,
   "metadata": {},
   "outputs": [],
   "source": [
    "qa_stuff = RetrievalQA.from_chain_type(\n",
    "    llm=llm, \n",
    "    chain_type=\"stuff\", \n",
    "    retriever=retriever, \n",
    "    verbose=True\n",
    ")"
   ]
  },
  {
   "cell_type": "code",
   "execution_count": 53,
   "metadata": {},
   "outputs": [],
   "source": [
    "query =  \"Please list all your shirts with sun protection in a table \\\n",
    "in markdown and summarize each one.\""
   ]
  },
  {
   "cell_type": "code",
   "execution_count": 54,
   "metadata": {},
   "outputs": [
    {
     "name": "stdout",
     "output_type": "stream",
     "text": [
      "\n",
      "\n",
      "\u001b[1m> Entering new RetrievalQA chain...\u001b[0m\n",
      "\n",
      "\u001b[1m> Finished chain.\u001b[0m\n"
     ]
    }
   ],
   "source": [
    "response = qa_stuff.run(query)"
   ]
  },
  {
   "cell_type": "code",
   "execution_count": 55,
   "metadata": {},
   "outputs": [
    {
     "data": {
      "text/markdown": [
       "I'm sorry, but I don't have access to the information about sun protection for the shirts."
      ],
      "text/plain": [
       "<IPython.core.display.Markdown object>"
      ]
     },
     "metadata": {},
     "output_type": "display_data"
    }
   ],
   "source": [
    "display(Markdown(response))"
   ]
  },
  {
   "cell_type": "code",
   "execution_count": 57,
   "metadata": {},
   "outputs": [],
   "source": [
    "query =  \"Please list all your black cotton shirts in a table \\\n",
    "in markdown and summarize each one.\""
   ]
  },
  {
   "cell_type": "code",
   "execution_count": 58,
   "metadata": {},
   "outputs": [
    {
     "name": "stdout",
     "output_type": "stream",
     "text": [
      "\n",
      "\n",
      "\u001b[1m> Entering new RetrievalQA chain...\u001b[0m\n",
      "\n",
      "\u001b[1m> Finished chain.\u001b[0m\n"
     ]
    }
   ],
   "source": [
    "response = qa_stuff.run(query)"
   ]
  },
  {
   "cell_type": "code",
   "execution_count": 59,
   "metadata": {},
   "outputs": [
    {
     "data": {
      "text/markdown": [
       "| ProductID  | ProductName                                                  | ProductBrand        | Gender | Price (INR) | NumImages | Description                                                                                                                                                    | PrimaryColor |\n",
       "|------------|--------------------------------------------------------------|---------------------|--------|-------------|-----------|----------------------------------------------------------------------------------------------------------------------------------------------------------------|--------------|\n",
       "| 10245285   | Basics Men Black & Grey Slim Fit Striped Casual Shirt        | Basics              | Men    | 1469        | 5         | Black striped casual shirt, has a spread collar, long sleeves, button placket, and curved hem                                                                 | Black        |\n",
       "| 10074235   | Black coffee Men White & Blue Slim Fit Checked Formal Shirt  | Black coffee        | Men    | 1599        | 5         | White and Blue checked formal shirt, has a spread collar, long sleeves, button placket, straight hem, and 1 patch pocket                                      | Blue         |\n",
       "| 10201151   | Mufti Men Black Regular Fit Printed Casual Shirt             | Mufti               | Men    | 999         | 5         | Black printed casual shirt, has a spread collar, long sleeves, button placket, curved hem, and 1 patch pocket                                                  | Black        |\n",
       "| 10267633   | Calvin Klein Jeans Men White & Black Colourblocked T-shirt   | Calvin Klein Jeans  | Men    | 1799        | 6         | White and black Tshirt for men   Colourblocked   Regular length   Round neck   Short,  regular sleeves   Knitted cotton fabric   The monochromatic trend is all about wearing the same hue in different textures for an overall tonal look. It allows you to add dimension and depth to your style affordably and has the power to accentuate or down-play certain body parts, making it the right fit for all. | Black        |\n",
       "\n",
       "Summary:\n",
       "1. Basics Men Black & Grey Slim Fit Striped Casual Shirt: A black striped casual shirt with a spread collar, long sleeves, button placket, and curved hem.\n",
       "2. Black coffee Men White & Blue Slim Fit Checked Formal Shirt: A white and blue checked formal shirt with a spread collar, long sleeves, button placket, straight hem, and 1 patch pocket.\n",
       "3. Mufti Men Black Regular Fit Printed Casual Shirt: A black printed casual shirt with a spread collar, long sleeves, button placket, curved hem, and 1 patch pocket.\n",
       "4. Calvin Klein Jeans Men White & Black Colourblocked T-shirt: A white and black T-shirt for men with a colourblocked design, regular length, round neck, short regular sleeves, and knitted cotton fabric. The monochromatic trend allows for an overall tonal look and adds dimension and depth to your style."
      ],
      "text/plain": [
       "<IPython.core.display.Markdown object>"
      ]
     },
     "metadata": {},
     "output_type": "display_data"
    }
   ],
   "source": [
    "display(Markdown(response))"
   ]
  },
  {
   "cell_type": "code",
   "execution_count": 60,
   "metadata": {},
   "outputs": [],
   "source": [
    "response = index.query(query, llm=llm)"
   ]
  },
  {
   "cell_type": "code",
   "execution_count": 61,
   "metadata": {},
   "outputs": [],
   "source": [
    "index = VectorstoreIndexCreator(\n",
    "    vectorstore_cls=DocArrayInMemorySearch,\n",
    "    embedding=embeddings,\n",
    ").from_loaders([loader])"
   ]
  },
  {
   "cell_type": "code",
   "execution_count": null,
   "metadata": {},
   "outputs": [],
   "source": []
  }
 ],
 "metadata": {
  "kernelspec": {
   "display_name": "Python 3",
   "language": "python",
   "name": "python3"
  },
  "language_info": {
   "codemirror_mode": {
    "name": "ipython",
    "version": 3
   },
   "file_extension": ".py",
   "mimetype": "text/x-python",
   "name": "python",
   "nbconvert_exporter": "python",
   "pygments_lexer": "ipython3",
   "version": "3.10.1"
  },
  "orig_nbformat": 4
 },
 "nbformat": 4,
 "nbformat_minor": 2
}
