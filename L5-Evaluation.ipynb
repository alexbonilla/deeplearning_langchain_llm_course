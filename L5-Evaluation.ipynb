{
 "cells": [
  {
   "attachments": {},
   "cell_type": "markdown",
   "metadata": {},
   "source": [
    "# LangChain: Evaluation\n",
    "\n",
    "## Outline:\n",
    "\n",
    "* Example generation\n",
    "* Manual evaluation (and debuging)\n",
    "* LLM-assisted evaluation"
   ]
  },
  {
   "cell_type": "code",
   "execution_count": null,
   "metadata": {},
   "outputs": [],
   "source": [
    "import os\n",
    "\n",
    "from dotenv import load_dotenv, find_dotenv\n",
    "_ = load_dotenv(find_dotenv()) # read local .env file"
   ]
  },
  {
   "attachments": {},
   "cell_type": "markdown",
   "metadata": {},
   "source": [
    "## Create our QandA application"
   ]
  },
  {
   "cell_type": "code",
   "execution_count": 1,
   "metadata": {},
   "outputs": [],
   "source": [
    "from langchain.chains import RetrievalQA\n",
    "from langchain.chat_models import ChatOpenAI\n",
    "from langchain.document_loaders import CSVLoader\n",
    "from langchain.indexes import VectorstoreIndexCreator\n",
    "from langchain.vectorstores import DocArrayInMemorySearch"
   ]
  },
  {
   "cell_type": "code",
   "execution_count": 2,
   "metadata": {},
   "outputs": [],
   "source": [
    "file = 'myntra_products_catalog.csv'\n",
    "loader = CSVLoader(file_path=file)\n",
    "data = loader.load()"
   ]
  },
  {
   "cell_type": "code",
   "execution_count": 3,
   "metadata": {},
   "outputs": [],
   "source": [
    "index = VectorstoreIndexCreator(\n",
    "    vectorstore_cls=DocArrayInMemorySearch\n",
    ").from_loaders([loader])"
   ]
  },
  {
   "cell_type": "code",
   "execution_count": 4,
   "metadata": {},
   "outputs": [],
   "source": [
    "llm = ChatOpenAI(temperature = 0.0)\n",
    "qa = RetrievalQA.from_chain_type(\n",
    "    llm=llm, \n",
    "    chain_type=\"stuff\", \n",
    "    retriever=index.vectorstore.as_retriever(), \n",
    "    verbose=True,\n",
    "    chain_type_kwargs = {\n",
    "        \"document_separator\": \"<<<<>>>>>\"\n",
    "    }\n",
    ")"
   ]
  },
  {
   "cell_type": "code",
   "execution_count": 5,
   "metadata": {},
   "outputs": [
    {
     "data": {
      "text/plain": [
       "Document(page_content='ProductID: 10000911\\nProductName: Kenneth Cole Women Navy Blue Solid Backpack\\nProductBrand: Kenneth Cole\\nGender: Women\\nPrice (INR): 2463\\nNumImages: 5\\nDescription: Navy Blue backpackNon-Padded haul loop1 main compartment with zip closurePadded backZip PocketPadded shoulder strap: PaddedWater-resistance: No\\nPrimaryColor: Blue', metadata={'source': 'myntra_products_catalog.csv', 'row': 10})"
      ]
     },
     "execution_count": 5,
     "metadata": {},
     "output_type": "execute_result"
    }
   ],
   "source": [
    "data[10]"
   ]
  },
  {
   "cell_type": "code",
   "execution_count": 6,
   "metadata": {},
   "outputs": [
    {
     "data": {
      "text/plain": [
       "Document(page_content='ProductID: 10000245\\nProductName: Parx Men Green Printed Polo Collar T-shirt\\nProductBrand: Parx\\nGender: Men\\nPrice (INR): 629\\nNumImages: 5\\nDescription: Green printed T-shirt, has a polo collar, and short sleeves\\nPrimaryColor: Green', metadata={'source': 'myntra_products_catalog.csv', 'row': 11})"
      ]
     },
     "execution_count": 6,
     "metadata": {},
     "output_type": "execute_result"
    }
   ],
   "source": [
    "data[11]"
   ]
  },
  {
   "attachments": {},
   "cell_type": "markdown",
   "metadata": {},
   "source": [
    "### Hard-coded examples"
   ]
  },
  {
   "cell_type": "code",
   "execution_count": 20,
   "metadata": {},
   "outputs": [],
   "source": [
    "examples = [\n",
    "    {\n",
    "        \"query\": \"Does the CKenneth Cole Women Navy Blue Solid Backpack\\\n",
    "        have pockets?\",\n",
    "        \"answer\": \"Yes\"\n",
    "    },\n",
    "    {\n",
    "        \"query\": \"Does the Parx Men Green Printed Polo Collar T-shirt \\\n",
    "        have a collar?\",\n",
    "        \"answer\": \"Yes\"\n",
    "    }\n",
    "]"
   ]
  },
  {
   "attachments": {},
   "cell_type": "markdown",
   "metadata": {},
   "source": [
    "### LLM-Generated examples"
   ]
  },
  {
   "cell_type": "code",
   "execution_count": 8,
   "metadata": {},
   "outputs": [],
   "source": [
    "from langchain.evaluation.qa import QAGenerateChain\n"
   ]
  },
  {
   "cell_type": "code",
   "execution_count": 9,
   "metadata": {},
   "outputs": [],
   "source": [
    "example_gen_chain = QAGenerateChain.from_llm(ChatOpenAI())"
   ]
  },
  {
   "cell_type": "code",
   "execution_count": 10,
   "metadata": {},
   "outputs": [
    {
     "name": "stderr",
     "output_type": "stream",
     "text": [
      "/Users/alexbonilla/.pyenv/versions/3.10.1/lib/python3.10/site-packages/langchain/chains/llm.py:303: UserWarning: The apply_and_parse method is deprecated, instead pass an output parser directly to LLMChain.\n",
      "  warnings.warn(\n"
     ]
    }
   ],
   "source": [
    "new_examples = example_gen_chain.apply_and_parse(\n",
    "    [{\"doc\": t} for t in data[:5]]\n",
    ")"
   ]
  },
  {
   "cell_type": "code",
   "execution_count": 11,
   "metadata": {},
   "outputs": [
    {
     "data": {
      "text/plain": [
       "{'query': 'What is the product ID of the DKNY Unisex Black & Grey Printed Medium Trolley Bag?',\n",
       " 'answer': 'The product ID of the DKNY Unisex Black & Grey Printed Medium Trolley Bag is 10017413.'}"
      ]
     },
     "execution_count": 11,
     "metadata": {},
     "output_type": "execute_result"
    }
   ],
   "source": [
    "new_examples[0]"
   ]
  },
  {
   "cell_type": "code",
   "execution_count": 12,
   "metadata": {},
   "outputs": [
    {
     "data": {
      "text/plain": [
       "Document(page_content='ProductID: 10017413\\nProductName: DKNY Unisex Black & Grey Printed Medium Trolley Bag\\nProductBrand: DKNY\\nGender: Unisex\\nPrice (INR): 11745\\nNumImages: 7\\nDescription: Black and grey printed medium trolley bag, secured with a TSA lockOne handle on the top and one on the side, has a trolley with a retractable handle on the top and four corner mounted inline skate wheelsOne main zip compartment, zip lining, two compression straps with click clasps, one zip compartment on the flap with three zip pocketsWarranty: 5 yearsWarranty provided by Brand Owner / Manufacturer\\nPrimaryColor: Black', metadata={'source': 'myntra_products_catalog.csv', 'row': 0})"
      ]
     },
     "execution_count": 12,
     "metadata": {},
     "output_type": "execute_result"
    }
   ],
   "source": [
    "data[0]"
   ]
  },
  {
   "cell_type": "code",
   "execution_count": 13,
   "metadata": {},
   "outputs": [
    {
     "data": {
      "text/plain": [
       "5"
      ]
     },
     "execution_count": 13,
     "metadata": {},
     "output_type": "execute_result"
    }
   ],
   "source": [
    "len(new_examples)"
   ]
  },
  {
   "cell_type": "code",
   "execution_count": 14,
   "metadata": {},
   "outputs": [
    {
     "data": {
      "text/plain": [
       "{'query': 'What is the price of the Parx Men Brown & Off-White Slim Fit Printed Casual Shirt?',\n",
       " 'answer': 'The price of the Parx Men Brown & Off-White Slim Fit Printed Casual Shirt is INR 759.'}"
      ]
     },
     "execution_count": 14,
     "metadata": {},
     "output_type": "execute_result"
    }
   ],
   "source": [
    "new_examples[4]"
   ]
  },
  {
   "cell_type": "code",
   "execution_count": 15,
   "metadata": {},
   "outputs": [
    {
     "data": {
      "text/plain": [
       "Document(page_content='ProductID: 10017833\\nProductName: Parx Men Brown & Off-White Slim Fit Printed Casual Shirt\\nProductBrand: Parx\\nGender: Men\\nPrice (INR): 759\\nNumImages: 5\\nDescription: Brown and off-white printed casual shirt, has a spread collar, long sleeves, button placket,  curved hem, one patch pocket\\nPrimaryColor: White', metadata={'source': 'myntra_products_catalog.csv', 'row': 4})"
      ]
     },
     "execution_count": 15,
     "metadata": {},
     "output_type": "execute_result"
    }
   ],
   "source": [
    "data[4]"
   ]
  },
  {
   "attachments": {},
   "cell_type": "markdown",
   "metadata": {},
   "source": [
    "### Combine examples"
   ]
  },
  {
   "cell_type": "code",
   "execution_count": 21,
   "metadata": {},
   "outputs": [],
   "source": [
    "examples += new_examples"
   ]
  },
  {
   "cell_type": "code",
   "execution_count": 26,
   "metadata": {},
   "outputs": [
    {
     "name": "stdout",
     "output_type": "stream",
     "text": [
      "\n",
      "\n",
      "\u001b[1m> Entering new RetrievalQA chain...\u001b[0m\n",
      "\n",
      "\u001b[1m> Finished chain.\u001b[0m\n"
     ]
    },
    {
     "data": {
      "text/plain": [
       "'Based on the provided information, the Kenneth Cole Women Navy Blue Solid Backpack has a zip pocket.'"
      ]
     },
     "execution_count": 26,
     "metadata": {},
     "output_type": "execute_result"
    }
   ],
   "source": [
    "qa.run(examples[0][\"query\"])"
   ]
  },
  {
   "attachments": {},
   "cell_type": "markdown",
   "metadata": {},
   "source": [
    "## Manual Evaluation"
   ]
  },
  {
   "cell_type": "code",
   "execution_count": 27,
   "metadata": {},
   "outputs": [],
   "source": [
    "import langchain\n",
    "langchain.debug = True"
   ]
  },
  {
   "cell_type": "code",
   "execution_count": 24,
   "metadata": {},
   "outputs": [
    {
     "name": "stdout",
     "output_type": "stream",
     "text": [
      "\u001b[32;1m\u001b[1;3m[chain/start]\u001b[0m \u001b[1m[1:chain:RetrievalQA] Entering Chain run with input:\n",
      "\u001b[0m{\n",
      "  \"query\": \"Does the CKenneth Cole Women Navy Blue Solid Backpack        have pockets?\"\n",
      "}\n",
      "\u001b[32;1m\u001b[1;3m[chain/start]\u001b[0m \u001b[1m[1:chain:RetrievalQA > 3:chain:StuffDocumentsChain] Entering Chain run with input:\n",
      "\u001b[0m[inputs]\n",
      "\u001b[32;1m\u001b[1;3m[chain/start]\u001b[0m \u001b[1m[1:chain:RetrievalQA > 3:chain:StuffDocumentsChain > 4:chain:LLMChain] Entering Chain run with input:\n",
      "\u001b[0m{\n",
      "  \"question\": \"Does the CKenneth Cole Women Navy Blue Solid Backpack        have pockets?\",\n",
      "  \"context\": \"ProductID: 10000911\\nProductName: Kenneth Cole Women Navy Blue Solid Backpack\\nProductBrand: Kenneth Cole\\nGender: Women\\nPrice (INR): 2463\\nNumImages: 5\\nDescription: Navy Blue backpackNon-Padded haul loop1 main compartment with zip closurePadded backZip PocketPadded shoulder strap: PaddedWater-resistance: No\\nPrimaryColor: Blue<<<<>>>>>ProductID: 10000915\\nProductName: Kenneth Cole Women Brown Solid Backpack\\nProductBrand: Kenneth Cole\\nGender: Women\\nPrice (INR): 2274\\nNumImages: 5\\nDescription: Brown solid backpackNon-Padded haul loop1 main compartment with zip closurePadded backPadded shoulder strap: Non-Padded\\nPrimaryColor: Brown<<<<>>>>>ProductID: 10000921\\nProductName: Kenneth Cole Women Pink Solid Backpack\\nProductBrand: Kenneth Cole\\nGender: Women\\nPrice (INR): 2463\\nNumImages: 5\\nDescription: Pink solid backpackNon-Padded haul loop1 main compartment with zip closureNon-Padded backPadded shoulder strap: Non-Padded\\nPrimaryColor: Pink<<<<>>>>>ProductID: 10143543\\nProductName: Calvin Klein Jeans Men Navy Blue Solid Laptop Backpack\\nProductBrand: Calvin Klein Jeans\\nGender: Men\\nPrice (INR): 8449\\nNumImages: 6\\nDescription: Navy blue solid laptop backpackNon-Padded haul loop1 main compartment with zip closureLightly Padded back2 internal pocket, 1 external pocketZip PocketPadded shoulder strap: Non-PaddedWater-resistance: NoWarranty: 6 months Warranty provided by brand/manufacturer\\nPrimaryColor: Blue\"\n",
      "}\n",
      "\u001b[32;1m\u001b[1;3m[llm/start]\u001b[0m \u001b[1m[1:chain:RetrievalQA > 3:chain:StuffDocumentsChain > 4:chain:LLMChain > 5:llm:ChatOpenAI] Entering LLM run with input:\n",
      "\u001b[0m{\n",
      "  \"prompts\": [\n",
      "    \"System: Use the following pieces of context to answer the users question. \\nIf you don't know the answer, just say that you don't know, don't try to make up an answer.\\n----------------\\nProductID: 10000911\\nProductName: Kenneth Cole Women Navy Blue Solid Backpack\\nProductBrand: Kenneth Cole\\nGender: Women\\nPrice (INR): 2463\\nNumImages: 5\\nDescription: Navy Blue backpackNon-Padded haul loop1 main compartment with zip closurePadded backZip PocketPadded shoulder strap: PaddedWater-resistance: No\\nPrimaryColor: Blue<<<<>>>>>ProductID: 10000915\\nProductName: Kenneth Cole Women Brown Solid Backpack\\nProductBrand: Kenneth Cole\\nGender: Women\\nPrice (INR): 2274\\nNumImages: 5\\nDescription: Brown solid backpackNon-Padded haul loop1 main compartment with zip closurePadded backPadded shoulder strap: Non-Padded\\nPrimaryColor: Brown<<<<>>>>>ProductID: 10000921\\nProductName: Kenneth Cole Women Pink Solid Backpack\\nProductBrand: Kenneth Cole\\nGender: Women\\nPrice (INR): 2463\\nNumImages: 5\\nDescription: Pink solid backpackNon-Padded haul loop1 main compartment with zip closureNon-Padded backPadded shoulder strap: Non-Padded\\nPrimaryColor: Pink<<<<>>>>>ProductID: 10143543\\nProductName: Calvin Klein Jeans Men Navy Blue Solid Laptop Backpack\\nProductBrand: Calvin Klein Jeans\\nGender: Men\\nPrice (INR): 8449\\nNumImages: 6\\nDescription: Navy blue solid laptop backpackNon-Padded haul loop1 main compartment with zip closureLightly Padded back2 internal pocket, 1 external pocketZip PocketPadded shoulder strap: Non-PaddedWater-resistance: NoWarranty: 6 months Warranty provided by brand/manufacturer\\nPrimaryColor: Blue\\nHuman: Does the CKenneth Cole Women Navy Blue Solid Backpack        have pockets?\"\n",
      "  ]\n",
      "}\n",
      "\u001b[36;1m\u001b[1;3m[llm/end]\u001b[0m \u001b[1m[1:chain:RetrievalQA > 3:chain:StuffDocumentsChain > 4:chain:LLMChain > 5:llm:ChatOpenAI] [1.31s] Exiting LLM run with output:\n",
      "\u001b[0m{\n",
      "  \"generations\": [\n",
      "    [\n",
      "      {\n",
      "        \"text\": \"Based on the provided information, the Kenneth Cole Women Navy Blue Solid Backpack has a zip pocket.\",\n",
      "        \"generation_info\": {\n",
      "          \"finish_reason\": \"stop\"\n",
      "        },\n",
      "        \"message\": {\n",
      "          \"lc\": 1,\n",
      "          \"type\": \"constructor\",\n",
      "          \"id\": [\n",
      "            \"langchain\",\n",
      "            \"schema\",\n",
      "            \"messages\",\n",
      "            \"AIMessage\"\n",
      "          ],\n",
      "          \"kwargs\": {\n",
      "            \"content\": \"Based on the provided information, the Kenneth Cole Women Navy Blue Solid Backpack has a zip pocket.\",\n",
      "            \"additional_kwargs\": {}\n",
      "          }\n",
      "        }\n",
      "      }\n",
      "    ]\n",
      "  ],\n",
      "  \"llm_output\": {\n",
      "    \"token_usage\": {\n",
      "      \"prompt_tokens\": 416,\n",
      "      \"completion_tokens\": 19,\n",
      "      \"total_tokens\": 435\n",
      "    },\n",
      "    \"model_name\": \"gpt-3.5-turbo\"\n",
      "  },\n",
      "  \"run\": null\n",
      "}\n",
      "\u001b[36;1m\u001b[1;3m[chain/end]\u001b[0m \u001b[1m[1:chain:RetrievalQA > 3:chain:StuffDocumentsChain > 4:chain:LLMChain] [1.32s] Exiting Chain run with output:\n",
      "\u001b[0m{\n",
      "  \"text\": \"Based on the provided information, the Kenneth Cole Women Navy Blue Solid Backpack has a zip pocket.\"\n",
      "}\n",
      "\u001b[36;1m\u001b[1;3m[chain/end]\u001b[0m \u001b[1m[1:chain:RetrievalQA > 3:chain:StuffDocumentsChain] [1.33s] Exiting Chain run with output:\n",
      "\u001b[0m{\n",
      "  \"output_text\": \"Based on the provided information, the Kenneth Cole Women Navy Blue Solid Backpack has a zip pocket.\"\n",
      "}\n",
      "\u001b[36;1m\u001b[1;3m[chain/end]\u001b[0m \u001b[1m[1:chain:RetrievalQA] [1.83s] Exiting Chain run with output:\n",
      "\u001b[0m{\n",
      "  \"result\": \"Based on the provided information, the Kenneth Cole Women Navy Blue Solid Backpack has a zip pocket.\"\n",
      "}\n"
     ]
    },
    {
     "data": {
      "text/plain": [
       "'Based on the provided information, the Kenneth Cole Women Navy Blue Solid Backpack has a zip pocket.'"
      ]
     },
     "execution_count": 24,
     "metadata": {},
     "output_type": "execute_result"
    }
   ],
   "source": [
    "qa.run(examples[0][\"query\"])"
   ]
  },
  {
   "cell_type": "code",
   "execution_count": 28,
   "metadata": {},
   "outputs": [],
   "source": [
    "# Turn off the debug mode\n",
    "langchain.debug = False"
   ]
  },
  {
   "attachments": {},
   "cell_type": "markdown",
   "metadata": {},
   "source": [
    "## LLM assisted evaluation\n"
   ]
  },
  {
   "cell_type": "code",
   "execution_count": 29,
   "metadata": {},
   "outputs": [
    {
     "name": "stdout",
     "output_type": "stream",
     "text": [
      "\n",
      "\n",
      "\u001b[1m> Entering new RetrievalQA chain...\u001b[0m\n",
      "\n",
      "\u001b[1m> Finished chain.\u001b[0m\n",
      "\n",
      "\n",
      "\u001b[1m> Entering new RetrievalQA chain...\u001b[0m\n",
      "\n",
      "\u001b[1m> Finished chain.\u001b[0m\n",
      "\n",
      "\n",
      "\u001b[1m> Entering new RetrievalQA chain...\u001b[0m\n",
      "\n",
      "\u001b[1m> Finished chain.\u001b[0m\n",
      "\n",
      "\n",
      "\u001b[1m> Entering new RetrievalQA chain...\u001b[0m\n",
      "\n",
      "\u001b[1m> Finished chain.\u001b[0m\n",
      "\n",
      "\n",
      "\u001b[1m> Entering new RetrievalQA chain...\u001b[0m\n",
      "\n",
      "\u001b[1m> Finished chain.\u001b[0m\n",
      "\n",
      "\n",
      "\u001b[1m> Entering new RetrievalQA chain...\u001b[0m\n",
      "\n",
      "\u001b[1m> Finished chain.\u001b[0m\n",
      "\n",
      "\n",
      "\u001b[1m> Entering new RetrievalQA chain...\u001b[0m\n",
      "\n",
      "\u001b[1m> Finished chain.\u001b[0m\n"
     ]
    }
   ],
   "source": [
    "predictions = qa.apply(examples)"
   ]
  },
  {
   "cell_type": "code",
   "execution_count": 30,
   "metadata": {},
   "outputs": [],
   "source": [
    "from langchain.evaluation.qa import QAEvalChain"
   ]
  },
  {
   "cell_type": "code",
   "execution_count": 31,
   "metadata": {},
   "outputs": [],
   "source": [
    "llm = ChatOpenAI(temperature=0)\n",
    "eval_chain = QAEvalChain.from_llm(llm)"
   ]
  },
  {
   "cell_type": "code",
   "execution_count": 32,
   "metadata": {},
   "outputs": [
    {
     "name": "stderr",
     "output_type": "stream",
     "text": [
      "Retrying langchain.chat_models.openai.ChatOpenAI.completion_with_retry.<locals>._completion_with_retry in 1.0 seconds as it raised APIError: Bad gateway. {\"error\":{\"code\":502,\"message\":\"Bad gateway.\",\"param\":null,\"type\":\"cf_bad_gateway\"}} 502 {'error': {'code': 502, 'message': 'Bad gateway.', 'param': None, 'type': 'cf_bad_gateway'}} {'Date': 'Tue, 18 Jul 2023 18:59:01 GMT', 'Content-Type': 'application/json', 'Content-Length': '84', 'Connection': 'keep-alive', 'X-Frame-Options': 'SAMEORIGIN', 'Referrer-Policy': 'same-origin', 'Cache-Control': 'private, max-age=0, no-store, no-cache, must-revalidate, post-check=0, pre-check=0', 'Expires': 'Thu, 01 Jan 1970 00:00:01 GMT', 'Server': 'cloudflare', 'CF-RAY': '7e8ced527a493ae4-IAD', 'alt-svc': 'h3=\":443\"; ma=86400'}.\n"
     ]
    }
   ],
   "source": [
    "graded_outputs = eval_chain.evaluate(examples, predictions)"
   ]
  },
  {
   "cell_type": "code",
   "execution_count": 37,
   "metadata": {},
   "outputs": [
    {
     "name": "stdout",
     "output_type": "stream",
     "text": [
      "Example 0:\n",
      "Question: Does the CKenneth Cole Women Navy Blue Solid Backpack        have pockets?\n",
      "Real Answer: Yes\n",
      "Predicted Answer: Based on the provided information, the Kenneth Cole Women Navy Blue Solid Backpack has a zip pocket.\n",
      "Predicted Grade: CORRECT\n",
      "\n",
      "Example 1:\n",
      "Question: Does the Parx Men Green Printed Polo Collar T-shirt         have a collar?\n",
      "Real Answer: Yes\n",
      "Predicted Answer: Yes, the Parx Men Green Printed Polo Collar T-shirt does have a collar.\n",
      "Predicted Grade: CORRECT\n",
      "\n",
      "Example 2:\n",
      "Question: What is the product ID of the DKNY Unisex Black & Grey Printed Medium Trolley Bag?\n",
      "Real Answer: The product ID of the DKNY Unisex Black & Grey Printed Medium Trolley Bag is 10017413.\n",
      "Predicted Answer: The product ID of the DKNY Unisex Black & Grey Printed Medium Trolley Bag is 10017413.\n",
      "Predicted Grade: CORRECT\n",
      "\n",
      "Example 3:\n",
      "Question: What is the product name and brand of the kurta set described in the document?\n",
      "Real Answer: The product name is \"EthnoVogue Women Beige & Grey Made to Measure Custom Made Kurta Set with Jacket\" and the brand is \"EthnoVogue\".\n",
      "Predicted Answer: The product name is \"BownBee Girls Purple & Mustard Yellow Embellished Kurta Set\" and the brand is \"BownBee\".\n",
      "Predicted Grade: INCORRECT\n",
      "\n",
      "Example 4:\n",
      "Question: What is the product name and brand of the jeans mentioned in the document?\n",
      "Real Answer: The product name is \"SPYKAR Women Pink Alexa Super Skinny Fit High-Rise Clean Look Stretchable Cropped Jeans\" and the brand is \"SPYKAR\".\n",
      "Predicted Answer: The product name and brand of the jeans mentioned in the document are as follows:\n",
      "\n",
      "1. ProductID: 10144961\n",
      "   ProductName: GAP Girls Blue Girlfriend Jeans\n",
      "   ProductBrand: GAP\n",
      "\n",
      "2. ProductID: 10180489\n",
      "   ProductName: GAP Boys Superdenim Slim Jeans with Fantastiflex\n",
      "   ProductBrand: GAP\n",
      "\n",
      "3. ProductID: 1009547\n",
      "   ProductName: Slub Blue Washed Slim Jeans\n",
      "   ProductBrand: Slub\n",
      "\n",
      "4. ProductID: 10145033\n",
      "   ProductName: GAP Girls Superdenim Jeggings with Fantastiflex\n",
      "   ProductBrand: GAP\n",
      "Predicted Grade: INCORRECT\n",
      "\n",
      "Example 5:\n",
      "Question: What is the product name of the suit mentioned in the document?\n",
      "Real Answer: The product name of the suit mentioned in the document is \"Raymond Men Blue Self-Design Single-Breasted Bandhgala Suit\".\n",
      "Predicted Answer: There are multiple suits mentioned in the document. The product names are:\n",
      "\n",
      "1. SUITLTD Grey Waistcoat\n",
      "2. Raymond Men Blue Solid Regular-Fit Tuxedo Suit\n",
      "3. Park Avenue Men Blue Single-Breasted Formal Slim Fit Suit\n",
      "4. SUITLTD Black Single-Breasted Blazer\n",
      "Predicted Grade: CORRECT\n",
      "\n",
      "Example 6:\n",
      "Question: What is the price of the Parx Men Brown & Off-White Slim Fit Printed Casual Shirt?\n",
      "Real Answer: The price of the Parx Men Brown & Off-White Slim Fit Printed Casual Shirt is INR 759.\n",
      "Predicted Answer: The price of the Parx Men Brown & Off-White Slim Fit Printed Casual Shirt is INR 759.\n",
      "Predicted Grade: CORRECT\n",
      "\n"
     ]
    }
   ],
   "source": [
    "for i, eg in enumerate(examples):\n",
    "    print(f\"Example {i}:\")\n",
    "    print(\"Question: \" + predictions[i]['query'])\n",
    "    print(\"Real Answer: \" + predictions[i]['answer'])\n",
    "    print(\"Predicted Answer: \" + predictions[i]['result'])\n",
    "    print(\"Predicted Grade: \" + graded_outputs[i]['results'])\n",
    "    print()"
   ]
  },
  {
   "cell_type": "code",
   "execution_count": null,
   "metadata": {},
   "outputs": [],
   "source": []
  },
  {
   "cell_type": "code",
   "execution_count": null,
   "metadata": {},
   "outputs": [],
   "source": []
  },
  {
   "cell_type": "code",
   "execution_count": null,
   "metadata": {},
   "outputs": [],
   "source": []
  },
  {
   "cell_type": "code",
   "execution_count": null,
   "metadata": {},
   "outputs": [],
   "source": []
  }
 ],
 "metadata": {
  "kernelspec": {
   "display_name": "Python 3",
   "language": "python",
   "name": "python3"
  },
  "language_info": {
   "codemirror_mode": {
    "name": "ipython",
    "version": 3
   },
   "file_extension": ".py",
   "mimetype": "text/x-python",
   "name": "python",
   "nbconvert_exporter": "python",
   "pygments_lexer": "ipython3",
   "version": "3.10.1"
  },
  "orig_nbformat": 4
 },
 "nbformat": 4,
 "nbformat_minor": 2
}
